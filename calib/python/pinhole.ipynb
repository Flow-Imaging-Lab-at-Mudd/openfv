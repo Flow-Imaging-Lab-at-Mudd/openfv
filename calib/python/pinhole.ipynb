{
 "cells": [
  {
   "cell_type": "code",
   "execution_count": null,
   "metadata": {},
   "outputs": [],
   "source": [
    "def pinhole_calib (umeas, pData, camData):\n",
    "    \n",
    "    dx         = pData.dX\n",
    "    dy         = pData.dY\n",
    "    nx         = pData.nX\n",
    "    ny         = pData.nY\n",
    "    ncalplanes = pData.ncalplanes\n",
    "    so         = camData.so  \n",
    "    ncams      = camData.ncams\n",
    "    \n",
    "    # generate initial guesses for parameters \n",
    "    camParams   = setupCamera(camData)\n",
    "    planeParams = setupPlanes(ncalplanes,z0)\n",
    "    \n",
    "    # generate locations of the points on each plane\n",
    "    xvec        = np.arange(-(math.floor(nx/2)),math.floor(nx/2)+1)\n",
    "    yvec        = np.arange(-(math.floor(ny/2)),math.floor(ny/2)+1)\n",
    "    xphys       = dx*xvec\n",
    "    yphys       = dy*yvec\n",
    "    xmesh,ymesh = np.meshgrid(xphys,yphys)\n",
    "    xmesh       = np.reshape(xmesh.T,(1,nx*ny))\n",
    "    ymesh       = np.reshape(ymesh.T,(1,nx*ny))\n",
    "    xy_phys     = np.concatenate((xmesh,ymesh),axis=0)\n",
    "    xyz_phys    = np.concatenate((xy_phys,np.zeros([1,nX*nY])),axis=0)\n",
    "    \n",
    "    # initial grid to world points\n",
    "    Xworld = planar_grid_to_world(planeParams,xyz_phys,pData) \n",
    "    \n",
    "    # calibrate using opencv's built in calibration\n",
    "    ret, camMatrix, distC, rvecs, tvecs = cv2.calibrateCamera(Xworld, umeas, Size(camData.sX, camData.sY))\n",
    "    \n",
    "    #notes: need world points\n",
    "    #ceres uses the fact that we have multiple cameras and multiple camera parameters to refine guess of world points\n",
    "    "
   ]
  }
 ],
 "metadata": {
  "kernelspec": {
   "display_name": "Python 3",
   "language": "python",
   "name": "python3"
  },
  "language_info": {
   "codemirror_mode": {
    "name": "ipython",
    "version": 3
   },
   "file_extension": ".py",
   "mimetype": "text/x-python",
   "name": "python",
   "nbconvert_exporter": "python",
   "pygments_lexer": "ipython3",
   "version": "3.7.6"
  }
 },
 "nbformat": 4,
 "nbformat_minor": 4
}
